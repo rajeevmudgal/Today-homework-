{
 "cells": [
  {
   "cell_type": "code",
   "execution_count": 41,
   "id": "4dfdbeac-50e4-4198-814d-9f43c9523922",
   "metadata": {},
   "outputs": [
    {
     "name": "stdout",
     "output_type": "stream",
     "text": [
      "rajeev Mudgal.he is living in noida.\n"
     ]
    }
   ],
   "source": [
    "str1 = \"rajeev Mudgal.\"\n",
    "str2 = \"he is living in noida.\"\n",
    "print(str1 + str2)"
   ]
  },
  {
   "cell_type": "code",
   "execution_count": 24,
   "id": "f11db39b-964d-46cf-b8d4-f7c9d1e9ae06",
   "metadata": {},
   "outputs": [
    {
     "name": "stdout",
     "output_type": "stream",
     "text": [
      "srajeevsharmatrajeevsharmarrajeevsharma1rajeevsharma+rajeevsharmasrajeevsharmatrajeevsharmarrajeevsharma2\n",
      "str1+str2\n"
     ]
    }
   ],
   "source": [
    "str1 = \"rajeevsharma\"\n",
    "str2 = \"\" #separator\n",
    "print(str1.join(\"str1+str2\"))\n",
    "\n",
    "print(str2.join(\"str1+str2\"))\n",
    "\n",
    "\n",
    "\n"
   ]
  },
  {
   "cell_type": "code",
   "execution_count": 26,
   "id": "2d89151a-c3cb-4f95-9667-12f12ef50160",
   "metadata": {},
   "outputs": [
    {
     "name": "stdout",
     "output_type": "stream",
     "text": [
      "rajeevsharma Gwalior\n"
     ]
    }
   ],
   "source": [
    "# + operator\n",
    "\n",
    "str1 = \"rajeevsharma\"\n",
    "str2 = \"Gwalior\"\n",
    "my_string = str1 + \" \" + str2\n",
    "print(my_string)"
   ]
  },
  {
   "cell_type": "code",
   "execution_count": 28,
   "id": "678c286a-9f88-4974-9351-36d37810b045",
   "metadata": {},
   "outputs": [
    {
     "name": "stdout",
     "output_type": "stream",
     "text": [
      "6\n"
     ]
    }
   ],
   "source": [
    "# access individual charactor\n",
    "\n",
    "str = \"India is a great country\"\n",
    "print(str.find(\"is\"))"
   ]
  },
  {
   "cell_type": "code",
   "execution_count": 37,
   "id": "8b63f688-648b-4cea-a442-44db8c6c966c",
   "metadata": {},
   "outputs": [
    {
     "name": "stdout",
     "output_type": "stream",
     "text": [
      "43\n"
     ]
    }
   ],
   "source": [
    "# find the length of string\n",
    "\n",
    "str = \"India is the biggest democracy in the world\"\n",
    "len = len(str)\n",
    "print(len)"
   ]
  },
  {
   "cell_type": "code",
   "execution_count": 2,
   "id": "2fb5f4e4-744a-4327-905f-99429773e6b1",
   "metadata": {},
   "outputs": [
    {
     "name": "stdout",
     "output_type": "stream",
     "text": [
      "INDIA PEOPLES ARE VERY RELIGIOUS\n"
     ]
    }
   ],
   "source": [
    "# how can you convert a string to uppercase\n",
    "\n",
    "str = \"india peoples are very religious\"\n",
    "print(str.upper())"
   ]
  },
  {
   "cell_type": "code",
   "execution_count": 3,
   "id": "10025869-3b34-4aea-b2e4-fd501175f2ea",
   "metadata": {},
   "outputs": [
    {
     "name": "stdout",
     "output_type": "stream",
     "text": [
      "india is a great country\n"
     ]
    }
   ],
   "source": [
    "# how can you convert a string to lowercase\n",
    "\n",
    "str = \"INDIA IS A GREAT COUNTRY\"\n",
    "print(str.lower())"
   ]
  },
  {
   "cell_type": "code",
   "execution_count": 7,
   "id": "340f73d9-8f87-4481-bfb4-f07edfd3d942",
   "metadata": {},
   "outputs": [
    {
     "name": "stdout",
     "output_type": "stream",
     "text": [
      "my name is rajeev mudgal, Pakistan\n"
     ]
    }
   ],
   "source": [
    "#what method is used to replace substrings within a string?\n",
    "\n",
    "original_string = \"my name is rajeev sharma, Pakistan\"\n",
    "new_string = original_string.replace(\"sharma\",\"mudgal\")\n",
    "print(new_string)"
   ]
  },
  {
   "cell_type": "code",
   "execution_count": 21,
   "id": "6d6be08b-4c87-4567-9220-55f03f159e4e",
   "metadata": {},
   "outputs": [
    {
     "name": "stdout",
     "output_type": "stream",
     "text": [
      "['Orange, Apple, Banana, Papaya']\n"
     ]
    }
   ],
   "source": [
    "original_string = \"Orange, Apple, Banana, Papaya\"\n",
    "substring = original_string.split(\"       ,      \")\n",
    "print(substring)"
   ]
  },
  {
   "cell_type": "code",
   "execution_count": 5,
   "id": "c5ddfb84-b2cc-421d-89ea-627301a9380b",
   "metadata": {},
   "outputs": [
    {
     "name": "stdout",
     "output_type": "stream",
     "text": [
      "True\n"
     ]
    }
   ],
   "source": [
    "# how do you check if a string starts with a particular substrings?\n",
    "str = \"How can be make the new sentence!\"\n",
    "print(str.startswith(\"How\"))"
   ]
  },
  {
   "cell_type": "code",
   "execution_count": 7,
   "id": "14959a17-84a9-4be2-a895-c6a2b45d382e",
   "metadata": {},
   "outputs": [
    {
     "name": "stdout",
     "output_type": "stream",
     "text": [
      "True\n"
     ]
    }
   ],
   "source": [
    "# how do you check if a string ends with a particular substrings?\n",
    "str = \"How csn be make the ends with sentence!\"\n",
    "print(str.endswith(\"sentence!\"))"
   ]
  },
  {
   "cell_type": "code",
   "execution_count": 21,
   "id": "8e86acca-86c6-4495-907f-1a3e95f62fa7",
   "metadata": {},
   "outputs": [
    {
     "name": "stdout",
     "output_type": "stream",
     "text": [
      "ABC                    \n",
      "                      ABC\n",
      "ABC\n"
     ]
    }
   ],
   "source": [
    "# how can  you remove leading and trailing whitespace from a string?\n",
    "string = \"                      ABC                    \"\n",
    "# After removing leading whitespace\n",
    "print(string.lstrip())\n",
    "\n",
    "# After removing trailing whitespace\n",
    "print(string.rstrip())\n",
    "\n",
    "# After removing all whitespace\n",
    "print(string.strip())"
   ]
  },
  {
   "cell_type": "code",
   "execution_count": 44,
   "id": "17b65af0-edf4-41af-927b-fcab3e599c97",
   "metadata": {},
   "outputs": [
    {
     "name": "stdout",
     "output_type": "stream",
     "text": [
      "2\n"
     ]
    }
   ],
   "source": [
    "# what method is used to find the index of the first occurrence of a substring within a string?\n",
    "str = \"my name is rajeev sharma\"\n",
    "print(str.find(\" \"))"
   ]
  },
  {
   "cell_type": "code",
   "execution_count": 31,
   "id": "65b3eec1-2a58-4818-9b3f-01d1900b9c0c",
   "metadata": {},
   "outputs": [
    {
     "name": "stdout",
     "output_type": "stream",
     "text": [
      "number of occurrences: main_string.count(substring)\n"
     ]
    }
   ],
   "source": [
    "# how can you count the number of occurrences of a substring within a string?\n",
    "string = \"Hello world hello mr. India\"\n",
    "substring = \"India\"\n",
    "count = (\"main_string.count(substring)\")\n",
    "print(\"number of occurrences:\", count)"
   ]
  },
  {
   "cell_type": "code",
   "execution_count": 33,
   "id": "3fb01802-cce7-4a8b-bed1-f5d40d35fb19",
   "metadata": {},
   "outputs": [
    {
     "name": "stdout",
     "output_type": "stream",
     "text": [
      "The string contains only alphabetic characters.\n"
     ]
    }
   ],
   "source": [
    "#how do you check if a string contains only alphabetic characters?\n",
    "input_string = \"HelloWorld\"\n",
    "if input_string.isalpha():\n",
    "    print(\"The string contains only alphabetic characters.\")\n",
    "else:\n",
    "    print(\"The string contains non-alphabetic characters.\")"
   ]
  },
  {
   "cell_type": "code",
   "execution_count": 3,
   "id": "3b837ff5-6d6c-4b64-bc92-146ecefbb6b4",
   "metadata": {},
   "outputs": [
    {
     "name": "stdout",
     "output_type": "stream",
     "text": [
      "The string contains only isnumeric characters.\n"
     ]
    }
   ],
   "source": [
    "#how do you check if a string contains only numeric characters?\n",
    "input_string = \"12345\"\n",
    "if input_string.isnumeric():\n",
    "    print(\"The string contains only isnumeric characters.\")\n",
    "else:\n",
    "    print(\"The string contains non-isnumeric characters.\")"
   ]
  },
  {
   "cell_type": "code",
   "execution_count": 8,
   "id": "968882e7-68ee-442c-b12b-effeeeb968cb",
   "metadata": {},
   "outputs": [
    {
     "name": "stdout",
     "output_type": "stream",
     "text": [
      "('yrtnuoc taerg si aidni', \"yrtnuoc suoigiler yrev a s'ti osla tub taerg a ylno ton si aidni\")\n"
     ]
    }
   ],
   "source": [
    "#how can you reverse a string in python\n",
    "str1 = \"india is great country\"\n",
    "str2 = \"india is not only a great but also it's a very religious country\" \n",
    "reversed_string = str1[::-1],str2[::-1]\n",
    "print(reversed_string)"
   ]
  },
  {
   "cell_type": "code",
   "execution_count": 10,
   "id": "5d607c9b-78df-45b1-a507-df5c341402c3",
   "metadata": {},
   "outputs": [
    {
     "name": "stdout",
     "output_type": "stream",
     "text": [
      "my name is rajeev sharma and my age is 22\n"
     ]
    }
   ],
   "source": [
    "#how do you format a string with placeholders for variable values?\n",
    "name = \"rajeev sharma\"\n",
    "age = 22\n",
    "formatted_string = f\"my name is {name} and my age is {age}\"\n",
    "print(formatted_string)\n"
   ]
  },
  {
   "cell_type": "code",
   "execution_count": 24,
   "id": "60403758-c137-4817-9e25-198fb7c99339",
   "metadata": {},
   "outputs": [
    {
     "name": "stdout",
     "output_type": "stream",
     "text": [
      " great country.\n"
     ]
    }
   ],
   "source": [
    "#how do you access a substrings of a string using slicing?\n",
    "string = \"India is a great country.\"\n",
    "substring1 = string[10:200]\n",
    "print(substring1)"
   ]
  },
  {
   "cell_type": "code",
   "execution_count": 38,
   "id": "dfc29b0a-8449-406e-8660-fce6e7aa7775",
   "metadata": {},
   "outputs": [
    {
     "name": "stdout",
     "output_type": "stream",
     "text": [
      " is a great country\n",
      "India is a great \n"
     ]
    }
   ],
   "source": [
    "#How can you remove specific characters from a string in Python?\n",
    "str = \"India is a great country\"\n",
    "print(str.removeprefix(\"India\"))\n",
    "\n",
    "str1 = \"india is a great country\"\n",
    "print(str.removesuffix(\"country\"))\n"
   ]
  },
  {
   "cell_type": "code",
   "execution_count": null,
   "id": "f42d63c1-a333-4ad8-8986-81cda4b9f0ce",
   "metadata": {},
   "outputs": [],
   "source": []
  },
  {
   "cell_type": "code",
   "execution_count": null,
   "id": "fb8137c3-b818-4b64-99a4-4d98e7d3a5c7",
   "metadata": {},
   "outputs": [],
   "source": []
  }
 ],
 "metadata": {
  "kernelspec": {
   "display_name": "Python 3 (ipykernel)",
   "language": "python",
   "name": "python3"
  },
  "language_info": {
   "codemirror_mode": {
    "name": "ipython",
    "version": 3
   },
   "file_extension": ".py",
   "mimetype": "text/x-python",
   "name": "python",
   "nbconvert_exporter": "python",
   "pygments_lexer": "ipython3",
   "version": "3.11.7"
  }
 },
 "nbformat": 4,
 "nbformat_minor": 5
}
