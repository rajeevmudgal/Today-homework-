{
 "cells": [
  {
   "cell_type": "code",
   "execution_count": 1,
   "id": "a172b65c-4c7d-47b4-af87-abffc38380c0",
   "metadata": {},
   "outputs": [
    {
     "name": "stdout",
     "output_type": "stream",
     "text": [
      "1\n",
      "2\n",
      "3\n",
      "4\n",
      "5\n",
      "6\n",
      "7\n",
      "8\n",
      "9\n",
      "10\n"
     ]
    }
   ],
   "source": [
    "#write a python program to print all the numbers from 1 to 10 using a for loop.\n",
    "for i in range(1,11,1):\n",
    "    print(i)"
   ]
  },
  {
   "cell_type": "code",
   "execution_count": 2,
   "id": "82a7c79f-e393-49e9-bcf8-bf11344221f5",
   "metadata": {},
   "outputs": [
    {
     "name": "stdout",
     "output_type": "stream",
     "text": [
      "5050\n"
     ]
    }
   ],
   "source": [
    "# write the python program to find the sum of all numbers from 1 to 100 using a for loop.\n",
    "c = 0 \n",
    "for i in range(1,101):\n",
    "    c+=i#c=c+a\n",
    "    if i==100:\n",
    "        print(c)"
   ]
  },
  {
   "cell_type": "code",
   "execution_count": 3,
   "id": "105d131e-ef41-498c-8d8c-958d6d1128ab",
   "metadata": {},
   "outputs": [
    {
     "name": "stdin",
     "output_type": "stream",
     "text": [
      "Enter your table:  5\n"
     ]
    },
    {
     "name": "stdout",
     "output_type": "stream",
     "text": [
      "5 x 1 = 5\n",
      "5 x 2 = 10\n",
      "5 x 3 = 15\n",
      "5 x 4 = 20\n",
      "5 x 5 = 25\n",
      "5 x 6 = 30\n",
      "5 x 7 = 35\n",
      "5 x 8 = 40\n",
      "5 x 9 = 45\n",
      "5 x 10 = 50\n"
     ]
    }
   ],
   "source": [
    "#write a python program to print the multiplication table of a given number using a for loop.\n",
    "table = int(input(\"Enter your table: \"))\n",
    "\n",
    "for i in range(1,11,1):\n",
    "    print(f\"{table} x {i} = {i*table}\")"
   ]
  },
  {
   "cell_type": "code",
   "execution_count": 4,
   "id": "cf75465f-b0e3-494d-8f51-b3dee126bddc",
   "metadata": {},
   "outputs": [
    {
     "name": "stdout",
     "output_type": "stream",
     "text": [
      "Even numbers in the list:  5\n",
      "Even numbers in the list:  6\n"
     ]
    }
   ],
   "source": [
    "#write a python program to count the number of even and odd numbers from a series of numbers using a for loop.\n",
    "list1 = [1,2,3,4,5,6,7,8,9,10,11]\n",
    "even_count = 0\n",
    "odd_count = 0\n",
    "\n",
    "for num in list1:\n",
    "\n",
    "\n",
    "    if num % 2 == 0:\n",
    "        even_count += 1\n",
    "\n",
    "    else:\n",
    "        odd_count += 1\n",
    "print(\"Even numbers in the list: \", even_count)\n",
    "print(\"Even numbers in the list: \", odd_count)"
   ]
  },
  {
   "cell_type": "code",
   "execution_count": 14,
   "id": "900f992a-9a0e-4a2f-8e5c-fa91b9ca6062",
   "metadata": {},
   "outputs": [
    {
     "name": "stdin",
     "output_type": "stream",
     "text": [
      "enter a number:  8\n"
     ]
    },
    {
     "name": "stdout",
     "output_type": "stream",
     "text": [
      "Factorial of 8 is 40320\n"
     ]
    }
   ],
   "source": [
    "# write a python program to find the factorial of a number using a for loop.\n",
    "def factorial(num):\n",
    "    if num < 0:\n",
    "        return \"Factorial is not defined for negative numbers\"\n",
    "    elif num == 0:\n",
    "        return 1\n",
    "    else:\n",
    "        fact = 1\n",
    "        for i in range(1, num + 1):\n",
    "            fact *= i\n",
    "        return fact\n",
    "\n",
    "number = int(input(\"enter a number: \"))\n",
    "print(\"Factorial of\", number, \"is\", factorial(number))"
   ]
  },
  {
   "cell_type": "code",
   "execution_count": 6,
   "id": "3cd6db26-5e31-4ffc-ae88-c4472e7c9f15",
   "metadata": {},
   "outputs": [
    {
     "name": "stdout",
     "output_type": "stream",
     "text": [
      "[0, 1, 1, 2, 3, 5, 8, 13, 21, 34]\n"
     ]
    }
   ],
   "source": [
    "#0, 1, 1, 2, 3, 5, 8, 13, 21, ....\n",
    "#Every next number is found by adding up the two numbers before it.\n",
    "a=0\n",
    "b=1\n",
    "s=[]\n",
    "for i in range(51):\n",
    "    s.append(a)\n",
    "    a,b=b,a+b\n",
    "    if a>51:\n",
    "        break\n",
    "print(s)   "
   ]
  },
  {
   "cell_type": "code",
   "execution_count": 7,
   "id": "3f2dd096-d5b4-49bc-bdae-105093ec4ea7",
   "metadata": {},
   "outputs": [
    {
     "name": "stdout",
     "output_type": "stream",
     "text": [
      "[0, 1, 1, 2, 3, 5, 8, 13, 21, 34, 55, 89, 144, 233, 377, 610, 987]\n"
     ]
    }
   ],
   "source": [
    "# write a python program to print the fibonacci sequence up to a specified number using a for loop.\n",
    "a = 0\n",
    "b = 1\n",
    "rajeev = []\n",
    "for i in range(1000):\n",
    "    rajeev.append(a)\n",
    "    a,b=b,a+b\n",
    "    if a>1000:\n",
    "        break\n",
    "\n",
    "print(rajeev)"
   ]
  },
  {
   "cell_type": "code",
   "execution_count": 8,
   "id": "2cb28bca-2eda-4242-9555-81e2398cd46d",
   "metadata": {},
   "outputs": [
    {
     "name": "stdin",
     "output_type": "stream",
     "text": [
      "Enter any number:  4\n"
     ]
    },
    {
     "name": "stdout",
     "output_type": "stream",
     "text": [
      "4 is not a prime number\n"
     ]
    }
   ],
   "source": [
    "# write the python program to check if a given number is prime or not using a for loop.\n",
    "\n",
    "number = int(input(\"Enter any number: \"))\n",
    "\n",
    "# prime number is always greater than 1\n",
    "if number > 1:\n",
    "    for i in range(2, number):\n",
    "        if (number % i) == 0:\n",
    "            print(number, \"is not a prime number\")\n",
    "            break\n",
    "    else:\n",
    "        print(number, \"is a prime number\")\n",
    "\n",
    "# if the entered number is less than or equal to 1\n",
    "# then it is not prime number\n",
    "else:\n",
    "    print(number, \"is not a prime number\")\n"
   ]
  },
  {
   "cell_type": "code",
   "execution_count": 9,
   "id": "e789c007-2502-4596-99d0-3ec9775d9252",
   "metadata": {},
   "outputs": [
    {
     "name": "stdout",
     "output_type": "stream",
     "text": [
      "The largest element in the list is: 6232\n"
     ]
    }
   ],
   "source": [
    "# write a python program to find the largest element in a list using a for loop.\n",
    "def find_largest_element(arr):\n",
    "    if len(arr) == 0:\n",
    "        return None \n",
    "    largest = arr[0]\n",
    "\n",
    "    for num in arr:\n",
    "        if num > largest:\n",
    "            largest = num\n",
    "    return largest\n",
    "\n",
    "my_list = [12,23,34,45,56,567,6232]\n",
    "largest_element = find_largest_element(my_list)\n",
    "print(\"The largest element in the list is:\", largest_element)\n"
   ]
  },
  {
   "cell_type": "code",
   "execution_count": 10,
   "id": "afd1d1a9-7d0c-4030-84f6-b407c460894b",
   "metadata": {},
   "outputs": [
    {
     "name": "stdout",
     "output_type": "stream",
     "text": [
      "common elements in the list: [1]\n"
     ]
    }
   ],
   "source": [
    "# write a python program to find the common elements between two lists using a for loop. \n",
    "list1 = [1,2,3]\n",
    "list2 = [4,5,1]\n",
    "\n",
    "common_elements = []\n",
    "\n",
    "for item in list1:\n",
    "    if item in list2:\n",
    "        common_elements.append(item)\n",
    "\n",
    "print(\"common elements in the list:\", common_elements)"
   ]
  },
  {
   "cell_type": "code",
   "execution_count": 11,
   "id": "8b95702c-c13f-4c50-9f93-e9f3bbaf424d",
   "metadata": {},
   "outputs": [
    {
     "name": "stdout",
     "output_type": "stream",
     "text": [
      "veejar\n"
     ]
    }
   ],
   "source": [
    "# write a python program to reverse a given string using a for loop.\n",
    "    \n",
    "input_string = \"rajeev\"\n",
    "reversed_string = \"\"\n",
    "\n",
    "for char in input_string:\n",
    "    reversed_string = char + reversed_string\n",
    "\n",
    "print(reversed_string)"
   ]
  },
  {
   "cell_type": "code",
   "execution_count": 12,
   "id": "a6fa7e3b-29f6-4d51-8e3b-add9b30b4a58",
   "metadata": {},
   "outputs": [
    {
     "name": "stdout",
     "output_type": "stream",
     "text": [
      "reversed_string: htanradek\n"
     ]
    }
   ],
   "source": [
    "input_string = \"kedarnath\"\n",
    "reversed_string = \"\"\n",
    "for i in range(len(input_string) -1,-1,-1):\n",
    "    reversed_string += input_string[i]\n",
    "\n",
    "print(\"reversed_string:\", reversed_string)"
   ]
  },
  {
   "cell_type": "code",
   "execution_count": 13,
   "id": "afff5c08-3788-498d-8924-424c6fa9757e",
   "metadata": {},
   "outputs": [
    {
     "name": "stdout",
     "output_type": "stream",
     "text": [
      "reversed_str: dlrow olleH\n"
     ]
    }
   ],
   "source": [
    "# write a python program to reverse a given string using a for loop.\n",
    "input_str = \"Hello world\"\n",
    "reversed_string = \"\"\n",
    "for i in range(len(input_str) -1,-1,-1):\n",
    "    reversed_string += input_str[i]\n",
    "\n",
    "\n",
    "print(\"reversed_str:\", reversed_string)"
   ]
  },
  {
   "cell_type": "code",
   "execution_count": null,
   "id": "93cb0eb7-1081-4871-a9cc-266c30281c9b",
   "metadata": {},
   "outputs": [],
   "source": [
    "\n"
   ]
  },
  {
   "cell_type": "code",
   "execution_count": null,
   "id": "9d3d5ff2-897f-45a6-b9be-2e2aae3a96c2",
   "metadata": {},
   "outputs": [],
   "source": []
  },
  {
   "cell_type": "code",
   "execution_count": null,
   "id": "52549b2b-86a7-4d34-8541-7ca6604deba3",
   "metadata": {},
   "outputs": [],
   "source": []
  }
 ],
 "metadata": {
  "kernelspec": {
   "display_name": "Python 3 (ipykernel)",
   "language": "python",
   "name": "python3"
  },
  "language_info": {
   "codemirror_mode": {
    "name": "ipython",
    "version": 3
   },
   "file_extension": ".py",
   "mimetype": "text/x-python",
   "name": "python",
   "nbconvert_exporter": "python",
   "pygments_lexer": "ipython3",
   "version": "3.11.7"
  }
 },
 "nbformat": 4,
 "nbformat_minor": 5
}
