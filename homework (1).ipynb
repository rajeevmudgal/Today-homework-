{
 "cells": [
  {
   "cell_type": "code",
   "execution_count": 9,
   "id": "504f75ac-3232-49a1-bb26-998c90ad0bb8",
   "metadata": {},
   "outputs": [
    {
     "name": "stdout",
     "output_type": "stream",
     "text": [
      "print(\"hello i'm ram\")\n",
      "import rajeev.py\n",
      "print(\"hello world\")\n"
     ]
    }
   ],
   "source": [
    "#file_path1 = \"C:\\\\Users\\\\rajee\\\\Desktop\\\\python.folder\\\\ram.py\"\n",
    "file_path2 = \"C:/Users/rajee/Desktop/python.folder/ram.py\"\n",
    "#file_path3 = r\"C:\\Users\\rajee\\Desktop\\python.folder\\ram.py\"\n",
    "\n",
    "with open(file_path3) as file:\n",
    "    content = file.read()\n",
    "\n",
    "print(content)"
   ]
  },
  {
   "cell_type": "code",
   "execution_count": 8,
   "id": "35bc3a33-4d1e-4abe-b102-672fdd7ba815",
   "metadata": {},
   "outputs": [
    {
     "name": "stdout",
     "output_type": "stream",
     "text": [
      "My name is rajeev sharma\n"
     ]
    }
   ],
   "source": [
    "str = \"my name is rajeev sharma\"\n",
    "print(str.capitalize())"
   ]
  },
  {
   "cell_type": "code",
   "execution_count": 11,
   "id": "403c7926-a69a-400d-a774-8e75d63bf3e2",
   "metadata": {},
   "outputs": [
    {
     "name": "stdout",
     "output_type": "stream",
     "text": [
      "my name is rajeev sharma\n"
     ]
    }
   ],
   "source": [
    "str = \"MY NAME IS RAJEEV SHARMA\"\n",
    "print(str.lower())"
   ]
  },
  {
   "cell_type": "code",
   "execution_count": 13,
   "id": "a5cafa8e-18e5-4915-92af-195903d429d1",
   "metadata": {},
   "outputs": [
    {
     "name": "stdout",
     "output_type": "stream",
     "text": [
      "my work is rajeev sharma, work is not defined everything\n"
     ]
    }
   ],
   "source": [
    "str = \"my name is rajeev sharma, name is not defined everything\"\n",
    "print(str.replace(\"name\",\"work\"))"
   ]
  },
  {
   "cell_type": "code",
   "execution_count": 20,
   "id": "4291a6d1-0f26-4f07-9b89-24fa2d46c06d",
   "metadata": {},
   "outputs": [
    {
     "name": "stdout",
     "output_type": "stream",
     "text": [
      "My Name Is Rajeev Sharma\n"
     ]
    }
   ],
   "source": [
    "str = \"my name is rajeev sharma\"\n",
    "print(str.title())"
   ]
  },
  {
   "cell_type": "code",
   "execution_count": 33,
   "id": "110f1bc6-6cac-4e6e-9e8a-6f11509e3900",
   "metadata": {},
   "outputs": [
    {
     "name": "stdout",
     "output_type": "stream",
     "text": [
      "0\n"
     ]
    }
   ],
   "source": [
    "str = \"my name is,rajeev sharma\"\n",
    "print(str.count(\"sharma rajeev my name is\"))"
   ]
  },
  {
   "cell_type": "code",
   "execution_count": 38,
   "id": "e54108b0-498d-4b6f-aaaf-37faf6dbfc7e",
   "metadata": {},
   "outputs": [
    {
     "name": "stdout",
     "output_type": "stream",
     "text": [
      "True\n"
     ]
    }
   ],
   "source": [
    "str = \"MY NAME IS RAJEEV\"\n",
    "print(str.isupper())"
   ]
  },
  {
   "cell_type": "code",
   "execution_count": 39,
   "id": "94d3b77b-b6b1-422f-b622-928a40064f13",
   "metadata": {},
   "outputs": [
    {
     "name": "stdout",
     "output_type": "stream",
     "text": [
      "mY nAME iS rAJEEV SHARMA\n"
     ]
    }
   ],
   "source": [
    "str = \"My Name Is Rajeev sharma\"\n",
    "print(str.swapcase())"
   ]
  },
  {
   "cell_type": "code",
   "execution_count": 45,
   "id": "99e9a5de-1326-49bd-ac3d-3be99bff8a66",
   "metadata": {},
   "outputs": [
    {
     "name": "stdout",
     "output_type": "stream",
     "text": [
      "smy name is rajeev sharma , and my native place is gwaliortmy name is rajeev sharma , and my native place is gwaliorrmy name is rajeev sharma , and my native place is gwalior1my name is rajeev sharma , and my native place is gwaliorsmy name is rajeev sharma , and my native place is gwaliortmy name is rajeev sharma , and my native place is gwaliorrmy name is rajeev sharma , and my native place is gwalior2\n"
     ]
    }
   ],
   "source": [
    "str1 = \"my name is rajeev sharma\"\n",
    "str2 = \"and my native place is gwalior\"\n",
    "print(str.join(\"str1\"\"str2\"))"
   ]
  },
  {
   "cell_type": "code",
   "execution_count": 48,
   "id": "09b64664-c29e-4b9f-9df4-b8c04fcd4531",
   "metadata": {},
   "outputs": [
    {
     "name": "stdout",
     "output_type": "stream",
     "text": [
      "True\n"
     ]
    }
   ],
   "source": [
    "str = \"8871447845\"\n",
    "print(str.isdigit())"
   ]
  },
  {
   "cell_type": "code",
   "execution_count": 49,
   "id": "299f685b-7bd0-4a24-8408-27beea1086f8",
   "metadata": {},
   "outputs": [
    {
     "name": "stdout",
     "output_type": "stream",
     "text": [
      "my name is rajeev sharma\n"
     ]
    }
   ],
   "source": [
    "str = \"my name is rajeev sharma\"\n",
    "print(str.format())"
   ]
  },
  {
   "cell_type": "code",
   "execution_count": 56,
   "id": "8aefe2b8-22ad-4000-aa49-d95c9bb39b6b",
   "metadata": {},
   "outputs": [
    {
     "name": "stdout",
     "output_type": "stream",
     "text": [
      "True\n"
     ]
    }
   ],
   "source": [
    "str = \"ram989ramis8\"\n",
    "print(str.isascii())"
   ]
  },
  {
   "cell_type": "code",
   "execution_count": 57,
   "id": "67ce5e77-b150-4e6f-8dd9-82a1dec0cdb1",
   "metadata": {},
   "outputs": [
    {
     "name": "stdout",
     "output_type": "stream",
     "text": [
      "True\n"
     ]
    }
   ],
   "source": [
    "str = \"my name is rajeev sharma\"\n",
    "print(str.islower())"
   ]
  },
  {
   "cell_type": "code",
   "execution_count": 58,
   "id": "544674df-c891-4312-94d7-d053d756a819",
   "metadata": {},
   "outputs": [
    {
     "name": "stdout",
     "output_type": "stream",
     "text": [
      "True\n"
     ]
    }
   ],
   "source": [
    "str = \"My Name Is Rajeev Sharma\"\n",
    "print(str.isprintable())"
   ]
  },
  {
   "cell_type": "code",
   "execution_count": 62,
   "id": "f85d2011-d81b-4672-a288-271c86e888b8",
   "metadata": {},
   "outputs": [
    {
     "name": "stdout",
     "output_type": "stream",
     "text": [
      "mY nAME iS rAJEEV sHARMA\n"
     ]
    }
   ],
   "source": [
    "str = \"My Name Is Rajeev Sharma\"\n",
    "print(str.swapcase())"
   ]
  },
  {
   "cell_type": "code",
   "execution_count": 63,
   "id": "a192f840-c9b0-4813-b4a7-ce6997af66c0",
   "metadata": {},
   "outputs": [
    {
     "name": "stdout",
     "output_type": "stream",
     "text": [
      "aMERICAN STANDARD AUTHORITY\n"
     ]
    }
   ],
   "source": [
    "str = \"American standard authority\"\n",
    "print(str.swapcase())"
   ]
  },
  {
   "cell_type": "code",
   "execution_count": 80,
   "id": "49ea436e-8faa-48e5-866e-8ceb39aa3301",
   "metadata": {},
   "outputs": [
    {
     "name": "stdout",
     "output_type": "stream",
     "text": [
      "MY NAME IS RAJEEV SHARMA\n"
     ]
    }
   ],
   "source": [
    "str = \"my name is rajeev sharma\"\n",
    "print(str.upper())"
   ]
  },
  {
   "cell_type": "code",
   "execution_count": 81,
   "id": "4e860d67-0f65-455a-88ab-62e09deb4c6a",
   "metadata": {},
   "outputs": [
    {
     "name": "stdout",
     "output_type": "stream",
     "text": [
      "True\n"
     ]
    }
   ],
   "source": [
    "str = \"MY NAME IS RAJEEV SHARMA\"\n",
    "print(str.isupper())"
   ]
  },
  {
   "cell_type": "code",
   "execution_count": 82,
   "id": "2067a1d7-c657-4738-8d15-f2f4a024ccad",
   "metadata": {},
   "outputs": [
    {
     "name": "stdout",
     "output_type": "stream",
     "text": [
      "my name is mudgal\n"
     ]
    }
   ],
   "source": [
    "str = \"MY NAME IS MUDGAL\"\n",
    "print(str.lower())"
   ]
  },
  {
   "cell_type": "code",
   "execution_count": 83,
   "id": "30a083ad-8396-4df6-82a3-448d03511f43",
   "metadata": {},
   "outputs": [
    {
     "name": "stdout",
     "output_type": "stream",
     "text": [
      "MY NAME IS MUDGAL\n"
     ]
    }
   ],
   "source": [
    "str = \"my name is mudgal\"\n",
    "print(str.upper())"
   ]
  },
  {
   "cell_type": "code",
   "execution_count": 1,
   "id": "8c1a69ed-6b6b-491f-a669-74f676d149ac",
   "metadata": {},
   "outputs": [
    {
     "name": "stdout",
     "output_type": "stream",
     "text": [
      "rAJEEV SHARMA\n"
     ]
    }
   ],
   "source": [
    "str = \"Rajeev sharma\"\n",
    "print(str.swapcase())"
   ]
  },
  {
   "cell_type": "code",
   "execution_count": 4,
   "id": "65d660d9-a6eb-450e-8ed1-9c66f60852b4",
   "metadata": {},
   "outputs": [
    {
     "name": "stdout",
     "output_type": "stream",
     "text": [
      "True\n"
     ]
    }
   ],
   "source": [
    "str = \"345676\"\n",
    "print(str.isnumeric())"
   ]
  },
  {
   "cell_type": "code",
   "execution_count": 5,
   "id": "cf4a317e-2e9e-4a9a-80ab-3c61d4b865d1",
   "metadata": {},
   "outputs": [
    {
     "name": "stdout",
     "output_type": "stream",
     "text": [
      "True\n"
     ]
    }
   ],
   "source": [
    "str = \"my name is rajeev sharma mob 887\\1447827\"\n",
    "print(str.isprintable())"
   ]
  },
  {
   "cell_type": "code",
   "execution_count": 6,
   "id": "2f08012b-e882-4e38-bc23-6fe211150b69",
   "metadata": {},
   "outputs": [
    {
     "name": "stdout",
     "output_type": "stream",
     "text": [
      "rajeev sharma\n"
     ]
    }
   ],
   "source": [
    "str = \"RAJEEV SHARMA\"\n",
    "print(str.lower())"
   ]
  },
  {
   "cell_type": "code",
   "execution_count": 7,
   "id": "75c64cb3-561e-4aa3-8f72-c424a1041e42",
   "metadata": {},
   "outputs": [
    {
     "name": "stdout",
     "output_type": "stream",
     "text": [
      "False\n"
     ]
    }
   ],
   "source": [
    "str = \"RAJEEV SHARMA\"\n",
    "print(str.islower())"
   ]
  },
  {
   "cell_type": "code",
   "execution_count": 10,
   "id": "e4e54ea0-e343-4706-838c-612c981c1d98",
   "metadata": {},
   "outputs": [
    {
     "name": "stdout",
     "output_type": "stream",
     "text": [
      "True\n"
     ]
    }
   ],
   "source": [
    "str = \"Rajeev Sharma\"\n",
    "print(str.istitle())"
   ]
  },
  {
   "cell_type": "code",
   "execution_count": 11,
   "id": "df7cd2c5-b3e0-49ec-9672-e3f75821570d",
   "metadata": {},
   "outputs": [
    {
     "name": "stdout",
     "output_type": "stream",
     "text": [
      "Rajeev Sharma\n"
     ]
    }
   ],
   "source": [
    "str = \"rajeev sharma\"\n",
    "print(str.title())"
   ]
  },
  {
   "cell_type": "code",
   "execution_count": 16,
   "id": "d1f1bec9-75ac-4b8e-949c-d37cd22af630",
   "metadata": {},
   "outputs": [
    {
     "name": "stdout",
     "output_type": "stream",
     "text": [
      "21\n"
     ]
    }
   ],
   "source": [
    "str = \"#####RajeevSharma#####\"\n",
    "print(str.rfind(\"#\"))"
   ]
  },
  {
   "cell_type": "code",
   "execution_count": 19,
   "id": "1e65ac3a-48fd-437c-b47c-a550c6bb2b75",
   "metadata": {},
   "outputs": [
    {
     "name": "stdout",
     "output_type": "stream",
     "text": [
      "14\n"
     ]
    }
   ],
   "source": [
    "str = \"rajeev sharma is good boy his native place is gwalior\"\n",
    "print(str.find(\"is\"))"
   ]
  },
  {
   "cell_type": "code",
   "execution_count": 21,
   "id": "302325bd-4357-46fb-80c9-ed1c102fc7fd",
   "metadata": {},
   "outputs": [
    {
     "name": "stdout",
     "output_type": "stream",
     "text": [
      "True\n"
     ]
    }
   ],
   "source": [
    "str = \"887144 rajeev sharma\"\n",
    "print(str.startswith(\"887144\"))"
   ]
  },
  {
   "cell_type": "code",
   "execution_count": 25,
   "id": "0b449d34-688f-4eb4-b5f5-6374a53ba8dc",
   "metadata": {},
   "outputs": [
    {
     "name": "stdout",
     "output_type": "stream",
     "text": [
      "rajeev sharma  8871444\n"
     ]
    }
   ],
   "source": [
    "str = \"Rajeev Sharma  8871444\"\n",
    "print(str.casefold())"
   ]
  },
  {
   "cell_type": "code",
   "execution_count": 44,
   "id": "a8b80063-3486-42af-a2ff-52c214efe549",
   "metadata": {},
   "outputs": [
    {
     "name": "stdout",
     "output_type": "stream",
     "text": [
      "RAJEEV SHARMA\n"
     ]
    }
   ],
   "source": [
    "str = \"rajeev sharma\"\n",
    "print(str.upper())"
   ]
  },
  {
   "cell_type": "code",
   "execution_count": 57,
   "id": "31804803-6ce0-4197-afed-a5ec5c396f12",
   "metadata": {},
   "outputs": [
    {
     "name": "stdout",
     "output_type": "stream",
     "text": [
      "I Like Clean And Green Gwalior 451266\n"
     ]
    }
   ],
   "source": [
    "str = \"I like Clean and Green Gwalior 451266\"\n",
    "print(str.title())"
   ]
  },
  {
   "cell_type": "code",
   "execution_count": 60,
   "id": "9979987f-8b24-4c2e-87a5-6fa00c8e2306",
   "metadata": {},
   "outputs": [
    {
     "name": "stdout",
     "output_type": "stream",
     "text": [
      "3\n"
     ]
    }
   ],
   "source": [
    "str1 = \"Hello World! Hello Hello\"\n",
    "print(str1.count(\"Hello\"))"
   ]
  },
  {
   "cell_type": "code",
   "execution_count": 67,
   "id": "4aedd21a-507e-4898-8530-4df8eedafdba",
   "metadata": {},
   "outputs": [
    {
     "name": "stdout",
     "output_type": "stream",
     "text": [
      "19\n"
     ]
    }
   ],
   "source": [
    "str1 = \"Hello World! Hello Hello\"\n",
    "print(str1.find(\"Hello\",15,30))"
   ]
  },
  {
   "cell_type": "code",
   "execution_count": 68,
   "id": "b40886d6-45c1-4ad2-a493-0ae0d68e529e",
   "metadata": {},
   "outputs": [
    {
     "name": "stdout",
     "output_type": "stream",
     "text": [
      "0\n"
     ]
    }
   ],
   "source": [
    "str = \"Hello World Hello Hello\"\n",
    "print(str.index(\"Hello\"))"
   ]
  },
  {
   "cell_type": "code",
   "execution_count": 77,
   "id": "06ec3da9-9cc5-40d1-a8d5-eee1912122e0",
   "metadata": {},
   "outputs": [
    {
     "name": "stdout",
     "output_type": "stream",
     "text": [
      "True\n"
     ]
    }
   ],
   "source": [
    "str = \"Hello World Hello Hello!\"\n",
    "print(str.endswith(\"Hello!\"))"
   ]
  },
  {
   "cell_type": "code",
   "execution_count": 76,
   "id": "f96836fa-b17a-4b8b-8ee8-cf3c9bbb30da",
   "metadata": {},
   "outputs": [
    {
     "name": "stdout",
     "output_type": "stream",
     "text": [
      "True\n"
     ]
    }
   ],
   "source": [
    "str = \"Hello World Hello Hello!\"\n",
    "print(str.startswith(\"Hello\"))"
   ]
  },
  {
   "cell_type": "code",
   "execution_count": 79,
   "id": "657cc30c-5d95-431e-837a-8750cb84dfc1",
   "metadata": {},
   "outputs": [
    {
     "name": "stdout",
     "output_type": "stream",
     "text": [
      "False\n",
      "True\n"
     ]
    }
   ],
   "source": [
    "# is alpha numeric\n",
    "#str = \"rajeevsharma@15061gmail.com\"\n",
    "print(str.isalnum())\n",
    "\n",
    "str = \"rajeevsharma15061\"\n",
    "print(str.isalnum())\n"
   ]
  },
  {
   "cell_type": "code",
   "execution_count": 87,
   "id": "19d8844b-139d-4b10-9a5c-30240a7c2545",
   "metadata": {},
   "outputs": [
    {
     "name": "stdout",
     "output_type": "stream",
     "text": [
      "False\n",
      "False\n"
     ]
    }
   ],
   "source": [
    "#str = \"rajeev sharma \\n my name is rajeev sharma\"\n",
    "print(str.isspace())\n",
    "\n",
    "str1 = \"rajeev_mudgal\"\n",
    "print(str.isspace())"
   ]
  },
  {
   "cell_type": "code",
   "execution_count": 89,
   "id": "85818d05-8ec7-4103-b7b2-343f9cf1fa22",
   "metadata": {},
   "outputs": [
    {
     "name": "stdout",
     "output_type": "stream",
     "text": [
      "rajeev sharmaf\n"
     ]
    }
   ],
   "source": [
    "str = \"      rajeev sharmaf\"\n",
    "print(str.lstrip())"
   ]
  },
  {
   "cell_type": "code",
   "execution_count": 91,
   "id": "06e4a370-12c5-44bc-a064-f01046f079d1",
   "metadata": {},
   "outputs": [
    {
     "name": "stdout",
     "output_type": "stream",
     "text": [
      "    rajeev sharma\n",
      "rajeev sharma\n"
     ]
    }
   ],
   "source": [
    "#str = \"    rajeev sharma     \"\n",
    "print(str.rstrip())\n",
    "\n",
    "str = \"rajeev sharma    \"\n",
    "print(str.rstrip())"
   ]
  },
  {
   "cell_type": "code",
   "execution_count": 92,
   "id": "58b473d0-ac3f-4980-816d-4f52bf28a79a",
   "metadata": {},
   "outputs": [
    {
     "name": "stdout",
     "output_type": "stream",
     "text": [
      "rajeev sharma\n"
     ]
    }
   ],
   "source": [
    "str = \"        rajeev sharma                                  \"\n",
    "print(str.strip())"
   ]
  },
  {
   "cell_type": "code",
   "execution_count": 96,
   "id": "4aea9234-9a68-4e8f-87c5-f9fde73b6492",
   "metadata": {},
   "outputs": [
    {
     "name": "stdout",
     "output_type": "stream",
     "text": [
      "sHelloworldtHelloworldrHelloworld+HelloworldsHelloworldtHelloworldrHelloworld1\n"
     ]
    }
   ],
   "source": [
    "str = \"Helloworld\"\n",
    "str1 = \"-\"   #separator\n",
    "print(str.join(\"str+str1\"))"
   ]
  },
  {
   "cell_type": "code",
   "execution_count": 103,
   "id": "122c4c10-8635-4d7d-9576-3e0360e97e88",
   "metadata": {},
   "outputs": [
    {
     "name": "stdout",
     "output_type": "stream",
     "text": [
      "('India ', 'is', ' a Great Country')\n",
      "('India is a Great Country', '', '')\n"
     ]
    }
   ],
   "source": [
    "#str = \"India is a Great Country\"\n",
    "print(str.partition(\"is\"))\n",
    "\n",
    "str = \"India is a Great Country\"\n",
    "print(str.partition(\"are\"))"
   ]
  },
  {
   "cell_type": "code",
   "execution_count": 106,
   "id": "5ed229c9-492d-4e79-9e39-5e228e43fbc6",
   "metadata": {},
   "outputs": [
    {
     "name": "stdout",
     "output_type": "stream",
     "text": [
      "['India', 'is', 'a', 'Great', 'Country']\n",
      "['indi', ' is ', ' gre', 't cournty']\n"
     ]
    }
   ],
   "source": [
    "#str = \"India is a Great Country\"\n",
    "print(str.split())\n",
    "\n",
    "str = \"india is a great cournty\"\n",
    "print(str.split(\"a\"))"
   ]
  },
  {
   "cell_type": "code",
   "execution_count": 2,
   "id": "c2359500-f003-4666-a92c-5629f4973d5f",
   "metadata": {},
   "outputs": [
    {
     "name": "stdout",
     "output_type": "stream",
     "text": [
      "mariya\n"
     ]
    }
   ],
   "source": [
    "str = \"MaRiya\"\n",
    "print(str.casefold())"
   ]
  },
  {
   "cell_type": "code",
   "execution_count": 4,
   "id": "5a90b8ad-cb51-49ee-b841-cb9cca382d3e",
   "metadata": {},
   "outputs": [
    {
     "name": "stdout",
     "output_type": "stream",
     "text": [
      "                  rajeev sharma                   \n"
     ]
    }
   ],
   "source": [
    "str = \"rajeev sharma\"\n",
    "print(str.center(50))\n"
   ]
  },
  {
   "cell_type": "code",
   "execution_count": 7,
   "id": "9c4c3e0a-2660-42ad-aca3-5b49b202ee05",
   "metadata": {},
   "outputs": [
    {
     "name": "stdout",
     "output_type": "stream",
     "text": [
      "4\n"
     ]
    }
   ],
   "source": [
    "str = \"abc_abc_abc_abc\"\n",
    "print(str.count(\"bc\"))"
   ]
  },
  {
   "cell_type": "code",
   "execution_count": 12,
   "id": "dcde854a-b471-46be-865c-268beb258fb3",
   "metadata": {},
   "outputs": [
    {
     "ename": "AttributeError",
     "evalue": "'str' object has no attribute 'encodes'",
     "output_type": "error",
     "traceback": [
      "\u001b[1;31m---------------------------------------------------------------------------\u001b[0m",
      "\u001b[1;31mAttributeError\u001b[0m                            Traceback (most recent call last)",
      "Cell \u001b[1;32mIn[12], line 2\u001b[0m\n\u001b[0;32m      1\u001b[0m \u001b[38;5;28mstr\u001b[39m \u001b[38;5;241m=\u001b[39m \u001b[38;5;124m\"\u001b[39m\u001b[38;5;124mElon Musk\u001b[39m\u001b[38;5;124m\"\u001b[39m\n\u001b[1;32m----> 2\u001b[0m \u001b[38;5;28mprint\u001b[39m(\u001b[38;5;28mstr\u001b[39m\u001b[38;5;241m.\u001b[39mencodes(encoding\u001b[38;5;241m=\u001b[39m\u001b[38;5;124m\"\u001b[39m\u001b[38;5;124mUTF-8\u001b[39m\u001b[38;5;124m\"\u001b[39m, errors\u001b[38;5;241m=\u001b[39m\u001b[38;5;124m\"\u001b[39m\u001b[38;5;124mstrict\u001b[39m\u001b[38;5;124m\"\u001b[39m))\n",
      "\u001b[1;31mAttributeError\u001b[0m: 'str' object has no attribute 'encodes'"
     ]
    }
   ],
   "source": [
    "str = \"Elon Musk\"\n",
    "print(str.encodes(encoding=\"UTF-8\", errors=\"strict\"))"
   ]
  },
  {
   "cell_type": "code",
   "execution_count": 13,
   "id": "a84a5c19-4f0c-4d01-979f-c305feedaac5",
   "metadata": {},
   "outputs": [
    {
     "name": "stdout",
     "output_type": "stream",
     "text": [
      "text                text2               text3\n"
     ]
    }
   ],
   "source": [
    "str = \"text\\ttext2\\ttext3\"\n",
    "print(str.expandtabs(20))"
   ]
  },
  {
   "cell_type": "code",
   "execution_count": 19,
   "id": "93fe4695-5b09-49f0-9e24-a80b257a8df5",
   "metadata": {},
   "outputs": [
    {
     "name": "stdout",
     "output_type": "stream",
     "text": [
      "7\n",
      "peoples are doing well\n"
     ]
    }
   ],
   "source": [
    "str = \"Indian peoples are doing well\"\n",
    "position: int = str.find(\"peoples\")\n",
    "print(position)\n",
    "print(str[position:])"
   ]
  },
  {
   "cell_type": "code",
   "execution_count": 21,
   "id": "f2247711-e320-4c3a-8644-9cefa56b9442",
   "metadata": {},
   "outputs": [
    {
     "name": "stdout",
     "output_type": "stream",
     "text": [
      "cat is doing: meow.\n",
      "cat is doing: meow.\n"
     ]
    }
   ],
   "source": [
    "text: str = \"{subject} is doing: {action}.\"\n",
    "print(text.format(subject=\"cat\", action=\"meow\"))\n",
    "\n",
    "text: str = \"{} is doing: {}.\" #alternative\n",
    "print(text.format(\"cat\", \"meow\"))"
   ]
  },
  {
   "cell_type": "code",
   "execution_count": 23,
   "id": "aa0f16c8-13a6-4622-86c6-53b4412d6565",
   "metadata": {},
   "outputs": [
    {
     "name": "stdout",
     "output_type": "stream",
     "text": [
      "coordinates: (10, -5)\n"
     ]
    }
   ],
   "source": [
    "# format_map()\n",
    "coordinates: dict = {\"x\": 10, \"y\": -5}\n",
    "text: str = \"coordinates: ({x}, {y})\"\n",
    "print(text.format_map(coordinates))"
   ]
  },
  {
   "cell_type": "code",
   "execution_count": 24,
   "id": "68c56bb2-876f-4781-be6a-bfe643f550bd",
   "metadata": {},
   "outputs": [
    {
     "name": "stdout",
     "output_type": "stream",
     "text": [
      "33\n",
      "banana on the moon?\n"
     ]
    }
   ],
   "source": [
    "# index()\n",
    "text: str = \"Astronauts recently discovered a banana on the moon?\"\n",
    "position: int = text.index(\"banana\")\n",
    "print(position)\n",
    "print(text[position:])"
   ]
  },
  {
   "cell_type": "code",
   "execution_count": 27,
   "id": "d35bf801-06e0-4ea7-8f86-20353428d518",
   "metadata": {},
   "outputs": [
    {
     "name": "stdout",
     "output_type": "stream",
     "text": [
      "True\n",
      "True\n",
      "True\n"
     ]
    }
   ],
   "source": [
    "#isdecimal()\n",
    "text: str = \"1234\"\n",
    "print(text.isdecimal())\n",
    "\n",
    "#isnumeric\n",
    "str = \"45785\"\n",
    "print(str.isnumeric())\n",
    "\n",
    "#isdigit()\n",
    "str = \"45656\"\n",
    "print(str.isdigit())"
   ]
  },
  {
   "cell_type": "code",
   "execution_count": 31,
   "id": "4082ac33-21fc-49b1-b897-dcac150eafca",
   "metadata": {},
   "outputs": [
    {
     "name": "stdout",
     "output_type": "stream",
     "text": [
      "False\n",
      "True\n"
     ]
    }
   ],
   "source": [
    "# isidentifier()\n",
    "str = \"test-sample\"\n",
    "print(str.isidentifier())\n",
    "\n",
    "\n",
    "str = \"test_sample\"\n",
    "print(str.isidentifier())"
   ]
  },
  {
   "cell_type": "code",
   "execution_count": 34,
   "id": "f553a8e7-06ae-406e-b606-36148e04a6f9",
   "metadata": {},
   "outputs": [
    {
     "name": "stdout",
     "output_type": "stream",
     "text": [
      "True\n"
     ]
    }
   ],
   "source": [
    "# isprintable()\n",
    "str = \"text\"\n",
    "print(str.isprintable())"
   ]
  },
  {
   "cell_type": "code",
   "execution_count": 35,
   "id": "c6315cc0-a35f-489a-bd0e-9cf0db2b4cb3",
   "metadata": {},
   "outputs": [
    {
     "name": "stdout",
     "output_type": "stream",
     "text": [
      "True\n"
     ]
    }
   ],
   "source": [
    "# isspace()\n",
    "str = \"        \"\n",
    "print(str.isspace())"
   ]
  },
  {
   "cell_type": "code",
   "execution_count": 36,
   "id": "2d789df8-ff89-4957-99ba-d2e750b20580",
   "metadata": {},
   "outputs": [
    {
     "name": "stdout",
     "output_type": "stream",
     "text": [
      "True\n"
     ]
    }
   ],
   "source": [
    "# istitle()\n",
    "str = \"The Video\"\n",
    "print(str.istitle())"
   ]
  },
  {
   "cell_type": "code",
   "execution_count": 40,
   "id": "75cb4f78-1d0d-4b72-93df-30f2b91d759d",
   "metadata": {},
   "outputs": [
    {
     "name": "stdout",
     "output_type": "stream",
     "text": [
      "text1++text2++text3\n"
     ]
    }
   ],
   "source": [
    "#join()\n",
    "str = \"++\"\n",
    "print(str.join([\"text1\",\"text2\",\"text3\"]))"
   ]
  },
  {
   "cell_type": "code",
   "execution_count": 42,
   "id": "328b2035-8198-47bd-acf1-8191ed4b1344",
   "metadata": {},
   "outputs": [
    {
     "name": "stdout",
     "output_type": "stream",
     "text": [
      "text________________\n"
     ]
    }
   ],
   "source": [
    "# ljust()\n",
    "str = \"text\"\n",
    "print(str.ljust(20, \"_\"))"
   ]
  },
  {
   "cell_type": "code",
   "execution_count": 50,
   "id": "ae868921-b6a9-4921-abc8-343699f8aee4",
   "metadata": {},
   "outputs": [
    {
     "name": "stdout",
     "output_type": "stream",
     "text": [
      "{82: 101}\n",
      "That is eahul\n"
     ]
    }
   ],
   "source": [
    "# maketrans()\n",
    "text: str = \"That is Rahul\"\n",
    "table = text.maketrans(\"R\", \"e\")\n",
    "print(table)\n",
    "\n",
    "#translate()\n",
    "print(text.translate(table))"
   ]
  },
  {
   "cell_type": "code",
   "execution_count": 51,
   "id": "da649b65-5ca2-41c5-9a8c-f44958837a37",
   "metadata": {},
   "outputs": [
    {
     "name": "stdout",
     "output_type": "stream",
     "text": [
      "('a+b', '=', 'c')\n"
     ]
    }
   ],
   "source": [
    "#partition()\n",
    "text: str = \"a+b=c\"\n",
    "print(text.partition(\"=\"))"
   ]
  },
  {
   "cell_type": "code",
   "execution_count": 55,
   "id": "5880ad9a-574b-4e26-a55c-74c9ecb8e47e",
   "metadata": {},
   "outputs": [
    {
     "name": "stdout",
     "output_type": "stream",
     "text": [
      "less\n"
     ]
    }
   ],
   "source": [
    "#removeprefix()\n",
    "text: str = \"endless\"\n",
    "print(text.removeprefix(\"end\"))"
   ]
  },
  {
   "cell_type": "code",
   "execution_count": 56,
   "id": "d9b307b4-7cad-454a-a5c7-68eacd878b96",
   "metadata": {},
   "outputs": [
    {
     "name": "stdout",
     "output_type": "stream",
     "text": [
      "every\n"
     ]
    }
   ],
   "source": [
    "#removesuffix()\n",
    "text: str = \"everything\"\n",
    "print(text.removesuffix(\"thing\"))"
   ]
  },
  {
   "cell_type": "code",
   "execution_count": 57,
   "id": "cea94090-2f69-4124-b6fd-f64fbbc9793f",
   "metadata": {},
   "outputs": [
    {
     "name": "stdout",
     "output_type": "stream",
     "text": [
      "________________text\n"
     ]
    }
   ],
   "source": [
    "#rjust()\n",
    "str = \"text\"\n",
    "print(str.rjust(20, \"_\"))"
   ]
  },
  {
   "cell_type": "code",
   "execution_count": 60,
   "id": "8c4435f6-c052-4c58-8561-6263afe18fbf",
   "metadata": {},
   "outputs": [
    {
     "name": "stdout",
     "output_type": "stream",
     "text": [
      "('', '', 'text=text2=text3')\n"
     ]
    }
   ],
   "source": [
    "#rpartition()\n",
    "str = \"text=text2=text3\"\n",
    "print(str.rpartition(\"+\"))"
   ]
  },
  {
   "cell_type": "code",
   "execution_count": 70,
   "id": "f4dc954d-f83e-4ed4-922a-b2567a467ebc",
   "metadata": {},
   "outputs": [
    {
     "name": "stdout",
     "output_type": "stream",
     "text": [
      "This is some special stuff\n",
      "his name is Mario \n"
     ]
    }
   ],
   "source": [
    "#strip()\n",
    "text: str = \"This is some special stuff\"\n",
    "print(text.strip(\"maxstrip=2\"))\n",
    "\n",
    "#rstrip()\n",
    "text: str = 'his name is Mario Mario'\n",
    "print(text.rstrip(\"Mario\"))\n",
    "\n"
   ]
  },
  {
   "cell_type": "code",
   "execution_count": 71,
   "id": "423d0b2f-1418-451e-b3a4-9aaed2e06e9a",
   "metadata": {},
   "outputs": [
    {
     "name": "stdout",
     "output_type": "stream",
     "text": [
      "['Remember to comment!\\n', 'or else...\\n']\n"
     ]
    }
   ],
   "source": [
    "# splitlines()\n",
    "text: str = \"Remember to comment!\\nor else...\\n\"\n",
    "print(text.splitlines(keepends=True))"
   ]
  },
  {
   "cell_type": "code",
   "execution_count": 73,
   "id": "0ced0efd-1fbd-4e70-b25f-b50881c64c77",
   "metadata": {},
   "outputs": [
    {
     "name": "stdout",
     "output_type": "stream",
     "text": [
      "0000000000000000text\n",
      "000000000000000000000000000000000000000000000000000000000000000000000000000happy\n"
     ]
    }
   ],
   "source": [
    "# zfill()\n",
    "text: str = \"text\"\n",
    "print(text.zfill(20))\n",
    "\n",
    "text: str = \"happy\"\n",
    "print(text.zfill(80))"
   ]
  },
  {
   "cell_type": "code",
   "execution_count": null,
   "id": "91525af0-8f8e-43ce-83ac-e417eb3d1910",
   "metadata": {},
   "outputs": [],
   "source": []
  }
 ],
 "metadata": {
  "kernelspec": {
   "display_name": "Python 3 (ipykernel)",
   "language": "python",
   "name": "python3"
  },
  "language_info": {
   "codemirror_mode": {
    "name": "ipython",
    "version": 3
   },
   "file_extension": ".py",
   "mimetype": "text/x-python",
   "name": "python",
   "nbconvert_exporter": "python",
   "pygments_lexer": "ipython3",
   "version": "3.11.7"
  }
 },
 "nbformat": 4,
 "nbformat_minor": 5
}
