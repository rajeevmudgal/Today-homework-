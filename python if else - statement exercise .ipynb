{
 "cells": [
  {
   "cell_type": "code",
   "execution_count": 60,
   "id": "6d842842-8e00-42db-bd95-7af4ba26d999",
   "metadata": {},
   "outputs": [
    {
     "ename": "IndentationError",
     "evalue": "unindent does not match any outer indentation level (<tokenize>, line 17)",
     "output_type": "error",
     "traceback": [
      "\u001b[1;36m  File \u001b[1;32m<tokenize>:17\u001b[1;36m\u001b[0m\n\u001b[1;33m    if units > 200:\u001b[0m\n\u001b[1;37m    ^\u001b[0m\n\u001b[1;31mIndentationError\u001b[0m\u001b[1;31m:\u001b[0m unindent does not match any outer indentation level\n"
     ]
    }
   ],
   "source": [
    "# Q1. Write a program to calculate the electricity bill \n",
    "# using only if statement? (accept number of unit from user) \n",
    "# according to the following criteria:\n",
    "#     Unit                  Price \n",
    "# First 100 units        no charge\n",
    "# Next 100 units         Rs 5 per unit\n",
    "# After 200 units        Rs 10 per unit\n",
    "# (For example, if input unit is 350 than total bill amount is Rs2000). Lets explain…\n",
    "# For first 100 no charges\n",
    "# Now you have 250 unit remaining\n",
    "# 100-200 you need to pay – 100*5 = 500\n",
    "# Now 200-100 you need to pay 150*10 = 1500\n",
    "# Total = 500+1500 = 2000\n",
    "\n",
    "def calculate_the_electricity_bill(units):\n",
    "     bill = 0\n",
    "    if units > 200:\n",
    "        bill += (units - 200) * 10\n",
    "        units = 200\n",
    "    if units > 100:\n",
    "        bill += (units - 100) * 5\n",
    "        units = 100\n",
    "    if units > 0:\n",
    "        bill += 0  # No charge for the first 100 units\n",
    "    return bill\n",
    "\n",
    "units = int(input(\"Enter the units consumed: \"))\n",
    "\n",
    "total_bill = calculate_the_electricity_bill(units)\n",
    "\n",
    "print(f\"the total money is: RS{total_bill}\")\n"
   ]
  },
  {
   "cell_type": "code",
   "execution_count": 1,
   "id": "2f180db4-28ee-4c00-bc0d-a6c458a069eb",
   "metadata": {},
   "outputs": [
    {
     "name": "stdin",
     "output_type": "stream",
     "text": [
      "Enter the percentage:  45\n"
     ]
    },
    {
     "name": "stdout",
     "output_type": "stream",
     "text": [
      "The corresponding grade is: D\n"
     ]
    }
   ],
   "source": [
    "# 2. Write a program to accept percentage from the user and display \n",
    "# the grade according to the following criteria:\n",
    "#  Marks              Grade\n",
    "#  > 90                A\n",
    "#  > 80 and <= 90      B\n",
    "#  >= 60 and <= 80     C\n",
    "#  below 60            D\n",
    "\n",
    "def get_grade(percentage):\n",
    "    if percentage >= 90:\n",
    "        return \"A\"\n",
    "    elif 90 > percentage >= 80:\n",
    "        return \"B\"\n",
    "    elif 80 > percentage >= 60:\n",
    "        return \"C\"\n",
    "    elif 60 > percentage >= 10:\n",
    "        return \"D\"\n",
    "\n",
    "#Get the percentage from the user\n",
    "try:\n",
    "    percentage = float(input(\"Enter the percentage: \"))\n",
    "    if 0 <= percentage <= 100:\n",
    "        grade = get_grade(percentage)\n",
    "        print(f\"The corresponding grade is: {grade}\")\n",
    "    else:\n",
    "        print(\"Please enter a valid percentage between 0 to 100.\")\n",
    "except ValueError:\n",
    "    print(\"Invalid input. Please enter a numerical value.\")\n",
    "    "
   ]
  },
  {
   "cell_type": "code",
   "execution_count": 2,
   "id": "0d3da56e-7f77-4196-94ab-bea946f9ac1f",
   "metadata": {},
   "outputs": [
    {
     "name": "stdin",
     "output_type": "stream",
     "text": [
      "Enter age of person1:  54\n",
      "Enter age of person2:  54\n",
      "Enter age of person3:  45\n",
      "Enter age of person4:  78\n"
     ]
    },
    {
     "name": "stdout",
     "output_type": "stream",
     "text": [
      "The youngest age is: 45\n"
     ]
    }
   ],
   "source": [
    " #accept the age of 4 people and display the youngest one?\n",
    "\n",
    "def get_youngest_age(ages):\n",
    "    return min(ages)\n",
    "\n",
    "# Accept ages from the user\n",
    "ages = []\n",
    "for i in range(4):\n",
    "    try:\n",
    "        age = int(input(f\"Enter age of person{i+1}: \"))\n",
    "        if age >= 0:\n",
    "            ages.append(age)\n",
    "        else:\n",
    "            print(\"please enter a valid age.\")\n",
    "            break\n",
    "    except ValueError:\n",
    "        print(\"Please enter a numerical value.\")\n",
    "        break\n",
    "if len(ages) == 4:\n",
    "    youngest_age = get_youngest_age(ages)\n",
    "    print(f\"The youngest age is: {youngest_age}\")\n",
    "else:\n",
    "    print(\"Invalid input. Program terminated.\")"
   ]
  },
  {
   "cell_type": "code",
   "execution_count": 3,
   "id": "c72e61dd-ba69-47d5-a1ac-47cfabd5ff9a",
   "metadata": {},
   "outputs": [
    {
     "name": "stdin",
     "output_type": "stream",
     "text": [
      "Enter your salary: 44\n",
      "Enter your years of service: 45\n"
     ]
    },
    {
     "name": "stdout",
     "output_type": "stream",
     "text": [
      "your net bonus amount 4.4\n"
     ]
    }
   ],
   "source": [
    "# A company decided to give bonus to employee according to following criteria:\n",
    "#     Time period of service            Bonus\n",
    "#     more than 10 years                 10%\n",
    "#     >=6 and <=10                        8%\n",
    "#     Less than 6 years                   5%\n",
    "# Ask user for their salary and years of service and print the net bonus amount?\n",
    "\n",
    "def calculate_bonus(salary, years_of_service):\n",
    "    if years_of_service >= 10:\n",
    "        bonus_percentage = 10\n",
    "    elif 6 >= years_of_service <= 10:\n",
    "        bonus_percentage = 8\n",
    "    elif years_of_service > 6:\n",
    "        bonus_percentage = 5\n",
    "\n",
    "    bonus_amount = salary * bonus_percentage /100\n",
    "    return bonus_amount\n",
    "    \n",
    "salary = float(input(\"Enter your salary:\"))\n",
    "years_of_service = float(input(\"Enter your years of service:\"))\n",
    "\n",
    "bonus = calculate_bonus(salary, years_of_service)\n",
    "\n",
    "print(f\"your net bonus amount {bonus:.1f}\")"
   ]
  },
  {
   "cell_type": "code",
   "execution_count": 4,
   "id": "d92b3bcb-5f97-46a7-9031-71e9250c9577",
   "metadata": {},
   "outputs": [
    {
     "name": "stdin",
     "output_type": "stream",
     "text": [
      "Enter the number:  5\n",
      "Enter the number:  45\n",
      "Enter the number:  78\n"
     ]
    },
    {
     "name": "stdout",
     "output_type": "stream",
     "text": [
      "The second largest number is: 5\n"
     ]
    }
   ],
   "source": [
    "#accept three numbers from the user and display the second largest number?\n",
    "def second_largest(num1,num2,num3):\n",
    "    numbers = [num1, num2, num3]\n",
    "    numbers.sort()\n",
    "    return numbers[1]\n",
    "# Input from the user\n",
    "num1 = (input(\"Enter the number: \"))\n",
    "num2 = (input(\"Enter the number: \"))\n",
    "num3 = (input(\"Enter the number: \"))\n",
    "# Find the second largest number\n",
    "second_largest_number = second_largest(num1,num2,num3)\n",
    "# Print the result\n",
    "print(f\"The second largest number is: {second_largest_number}\")"
   ]
  },
  {
   "cell_type": "code",
   "execution_count": 5,
   "id": "d3043534-f6bb-440e-88ae-0bbdcfe893bc",
   "metadata": {},
   "outputs": [
    {
     "name": "stdin",
     "output_type": "stream",
     "text": [
      "Enter the price:  44\n"
     ]
    },
    {
     "name": "stdout",
     "output_type": "stream",
     "text": [
      "The net amount to pay is: 34.00\n"
     ]
    }
   ],
   "source": [
    "#Q6. Accept the marked price from the user and calculate\n",
    "# the Net amount as (Marked Price – Discount) to pay \n",
    "# according to following criteria:\n",
    "# Marked Price         Discount\n",
    "#  >10000                20%\n",
    "#  >7000 and <=10000     15%\n",
    "#  <=7000                10%\n",
    "\n",
    "marked_price = float(input(\"Enter the price: \"))\n",
    "\n",
    "if marked_price > 10000:\n",
    "    discount_rate = 20\n",
    "elif 7000 < marked_price >= 10000:\n",
    "    discount_rate = 15\n",
    "elif marked_price <= 7000:\n",
    "    discount_rate = 10\n",
    "else:\n",
    "    discount_rate = 10\n",
    "discount = marked_price * discount_rate / 100\n",
    "\n",
    "net_amount = marked_price - discount_rate\n",
    "\n",
    "print(f\"The net amount to pay is: {net_amount:.2f}\")\n",
    "\n"
   ]
  },
  {
   "cell_type": "code",
   "execution_count": 12,
   "id": "7ce39d98-1e4b-4d8b-87f6-ab1694605c7a",
   "metadata": {},
   "outputs": [
    {
     "name": "stdin",
     "output_type": "stream",
     "text": [
      "Enter your maths marks:  80\n",
      "Enter your english marks:  85\n",
      "Enter your science marks:  54\n",
      "Enter your social_studies marks:  85\n"
     ]
    },
    {
     "name": "stdout",
     "output_type": "stream",
     "text": [
      "The allotted stream is:commerce stream\n"
     ]
    }
   ],
   "source": [
    "#. Accept the marks of English, Math and Science, \n",
    "# Social Studies Subject and display the stream allotted \n",
    "# according to following:\n",
    "# All Subjects more than 80 marks         —             Science Stream\n",
    "# English >80 and Math, Science above 50  —             Commerce Stream\n",
    "# English > 80 and social studies > 80    —             Humanities\n",
    "\n",
    "def allot_stream(maths,english,science,social_studies):\n",
    "    if all(mark > 80 for mark in [english, maths, science, social_studies]):\n",
    "        return \"science stream\"\n",
    "    elif english >80 and maths >50 and science >50:\n",
    "        return \"commerce stream\"\n",
    "    elif english >80 and social_studies >80:\n",
    "        return \"humanities\"\n",
    "    else:\n",
    "        return \"no stream allotted\"\n",
    "\n",
    "#accept marks from the user\n",
    "maths = int(input(\"Enter your maths marks: \"))\n",
    "english = int(input(\"Enter your english marks: \"))\n",
    "science = int(input(\"Enter your science marks: \"))\n",
    "social_studies = int(input(\"Enter your social_studies marks: \"))\n",
    "\n",
    "stream = allot_stream(maths,english,science,social_studies)\n",
    "\n",
    "print(f\"The allotted stream is:{stream}\")"
   ]
  },
  {
   "cell_type": "code",
   "execution_count": 21,
   "id": "f9fc5114-0b55-44b8-b513-a18b6306060e",
   "metadata": {},
   "outputs": [
    {
     "name": "stdin",
     "output_type": "stream",
     "text": [
      "Enter the Number:  95\n"
     ]
    },
    {
     "name": "stdout",
     "output_type": "stream",
     "text": [
      "Hello\n"
     ]
    }
   ],
   "source": [
    "# Q8. Write a program to display \"Hello\" if a number entered \n",
    "# by user is a multiple of five, otherwise print \"Bye\"?\n",
    "\n",
    "def multiple_of_five(number):\n",
    "    if number % 5 == 0:\n",
    "        return \"Hello\"\n",
    "\n",
    "    else:\n",
    "        return \"Bye\"\n",
    "\n",
    "number = int(input(\"Enter the Number: \"))\n",
    "\n",
    "message = multiple_of_five(number)\n",
    "print(message)\n"
   ]
  },
  {
   "cell_type": "code",
   "execution_count": 37,
   "id": "6ab4149a-6270-47d2-ab00-966e82c5818a",
   "metadata": {},
   "outputs": [
    {
     "name": "stdin",
     "output_type": "stream",
     "text": [
      "Enter the number:  4\n"
     ]
    },
    {
     "name": "stdout",
     "output_type": "stream",
     "text": [
      "this is not divisible\n"
     ]
    }
   ],
   "source": [
    "# Q9. Write a program to check whether the last digit of a number\n",
    "# (entered by user) is divisible by 3 or not?\n",
    "\n",
    "def the_last_digit_is_divisible_3(number):\n",
    "    \n",
    "    if number % 3 == 0:\n",
    "        return True\n",
    "    else:\n",
    "        return False\n",
    "\n",
    "number = int(input(\"Enter the number: \"))\n",
    "\n",
    "if the_last_digit_is_divisible_3(number):\n",
    "    print(\"this is divisible\")\n",
    "else:\n",
    "    print(\"this is not divisible\")"
   ]
  },
  {
   "cell_type": "code",
   "execution_count": 47,
   "id": "1c870b27-356f-4157-8e2d-82121444a92d",
   "metadata": {},
   "outputs": [
    {
     "name": "stdin",
     "output_type": "stream",
     "text": [
      "Enter the number:  100\n"
     ]
    },
    {
     "name": "stdout",
     "output_type": "stream",
     "text": [
      "this is a three digit number\n"
     ]
    }
   ],
   "source": [
    "# Q10. Write a program to check whether a number entered \n",
    "# is three-digit number or not?\n",
    "def check_the_three_digit_number(number):\n",
    "    if 100 <= abs(number) <= 999:\n",
    "        return True\n",
    "    else:\n",
    "        return False\n",
    "\n",
    "number = int(input(\"Enter the number: \"))\n",
    "\n",
    "if check_the_three_digit_number(number):\n",
    "    print(\"this is a three digit number\")\n",
    "else:\n",
    "    print(\"this is not a three digit number\")"
   ]
  },
  {
   "cell_type": "code",
   "execution_count": null,
   "id": "5fb015f3-f1c6-476c-acce-37af49e1ceb7",
   "metadata": {},
   "outputs": [],
   "source": []
  }
 ],
 "metadata": {
  "kernelspec": {
   "display_name": "Python 3 (ipykernel)",
   "language": "python",
   "name": "python3"
  },
  "language_info": {
   "codemirror_mode": {
    "name": "ipython",
    "version": 3
   },
   "file_extension": ".py",
   "mimetype": "text/x-python",
   "name": "python",
   "nbconvert_exporter": "python",
   "pygments_lexer": "ipython3",
   "version": "3.11.7"
  }
 },
 "nbformat": 4,
 "nbformat_minor": 5
}
