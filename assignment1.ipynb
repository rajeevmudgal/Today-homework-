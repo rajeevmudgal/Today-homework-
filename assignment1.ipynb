{
 "cells": [
  {
   "cell_type": "code",
   "execution_count": null,
   "id": "6927a424-30c4-4d0e-a089-35e377a4edf5",
   "metadata": {},
   "outputs": [],
   "source": [
    "1. In the below elements which of them are values or an expression? eg:- values can be integer or string and expressions will be mathematical operators.\n",
    "\n",
    "* = multiply operator\n",
    "'hello' = string\n",
    "-87.8 = float\n",
    "-  = substraction operator\n",
    "/  = division operator\n",
    "+  = plus operator\n",
    "6  = integar\n"
   ]
  },
  {
   "cell_type": "code",
   "execution_count": null,
   "id": "e2b1e739-d592-4645-b04b-31ebc350530f",
   "metadata": {},
   "outputs": [],
   "source": [
    "#What is the difference between string and variable?\n",
    "string = string is sequence of characters and it enclosed in quotes it can contains a symbol, numbers, and letters etc.\n",
    "example = \"rajeev\", \"1234\",\"@!#$:\"\n",
    "\n",
    "variable = it represents specific data and it can contain a large amount of data. we can use that data and we can do the manupulate the data.\n",
    "example = \n",
    "message = \"hello\"\n",
    "age = 23\n"
   ]
  },
  {
   "cell_type": "code",
   "execution_count": null,
   "id": "6213d746-2e50-4c64-9f2e-5e2f40ea6b3d",
   "metadata": {},
   "outputs": [],
   "source": [
    "3. Describe three different data types.\n",
    "\n",
    "integar = it can take either positive,negative and zero value it can't take any decimal numbers.\n",
    "exe = 1234, -23, 0\n",
    "\n",
    "float = it can take only decimal numbers. \n",
    "exe = 10.23, 3.34\n",
    "\n",
    "dict ="
   ]
  },
  {
   "cell_type": "code",
   "execution_count": null,
   "id": "b5f782b5-7cdc-42e7-9c2c-d0177fc80e08",
   "metadata": {},
   "outputs": [],
   "source": [
    "4. What is an expression made up of? What do all expressions do?\n",
    "\n",
    "literals = these are fixed values like numbers, string etc.\n",
    "example = \"45\", \"Hello\", \"7.78\"\n",
    "5 #evaluates of 5\n",
    "\"Hello\" #evaluates to the string \"Hello\"\n",
    "\n",
    "variable = refers that values stored in memory.\n",
    "example = \"x\", \"name\", \"total\"\n",
    "name = \"rajeev\" #name is assigned for rajeev\n",
    "\n",
    "operators = symbols that perform operation on values and variables.\n",
    "example = +,-, *, /, == , and, or.\n",
    "2+5 #evaluates to 7\n",
    "\n",
    "function = we can use those functions or make the highly productive code.\n",
    "example = [1,2,3,4].append(5)"
   ]
  },
  {
   "cell_type": "code",
   "execution_count": null,
   "id": "3294dd65-0b6c-4877-8829-bb00d26e6016",
   "metadata": {},
   "outputs": [],
   "source": [
    "5. This assignment statements, like spam = 10. What is the difference between an expression and a statement?\n",
    "\n",
    "expression = expression is a combination of variables, operators, literals and function calls that can evaluated and produce a value.\n",
    "expression are used to compute values.\n",
    "\n",
    "5\n",
    "2+4\n",
    "4*5\n",
    "a * 5\n",
    "\n",
    "statement = statement is instruction that python enterpreter can execute. statement do not necessarily execute a value.\n",
    "statements perform actions such as creating variables, controling the flow of execution, or difining functions.\n",
    "\n",
    "spam = 10\n",
    "if spam > 5:\n",
    "    print(\"Hello\")\n",
    "for i in range(5):\n",
    "    print(i)"
   ]
  },
  {
   "cell_type": "code",
   "execution_count": 9,
   "id": "87571ef6-175b-468d-a798-917f6d1424e7",
   "metadata": {},
   "outputs": [
    {
     "name": "stdout",
     "output_type": "stream",
     "text": [
      "23\n"
     ]
    }
   ],
   "source": [
    "# 6. After running the following code, what does the variable bacon contain?\n",
    "# bacon = 22\n",
    "# bacon + 1\n",
    "#Assignment Statement: bacon = 22\n",
    "\n",
    "#This assigns the value 22 to the variable bacon.\n",
    "#Expression: bacon + 1\n",
    "\n",
    "#This expression evaluates to 23 but does not change the value of bacon because the result of the expression is not assigned to any variable.\n",
    "bacon = 22\n",
    "bacon = bacon +1\n",
    "print(bacon)"
   ]
  },
  {
   "cell_type": "code",
   "execution_count": 14,
   "id": "01f018a7-7720-4744-8efb-0d6985cf72b8",
   "metadata": {},
   "outputs": [
    {
     "name": "stdout",
     "output_type": "stream",
     "text": [
      "spamspamspam\n",
      "spamspamspam\n"
     ]
    }
   ],
   "source": [
    "# 7. What should the values of the following two terms be?\n",
    "# 'spam' + 'spamspam'\n",
    "# 'spam' * 3\n",
    "The values of the given terms in Python would be as follows:\n",
    "\n",
    "'spam' + 'spamspam':\n",
    "\n",
    "This term concatenates two strings, 'spam' and 'spamspam'.\n",
    "The result is 'spamspamspam'.\n",
    "'spam' * 3:\n",
    "\n",
    "This term multiplies the string 'spam' by 3, repeating the string three times.\n",
    "The result is 'spamspamspam'.\n",
    "Code to Illustrate:\n",
    "python\n",
    "Copy code\n",
    "result1 = 'spam' + 'spamspam'\n",
    "result2 = 'spam' * 3\n",
    "\n",
    "print(result1)  # Output: spamspamspam\n",
    "print(result2)  # Output: spamspamspam"
   ]
  },
  {
   "cell_type": "code",
   "execution_count": null,
   "id": "971a79c4-7d34-425f-9746-bf199108eedc",
   "metadata": {},
   "outputs": [],
   "source": [
    "8. Why is eggs a valid variable name while 100 is invalid?\n",
    "\n",
    "Rules for Variable Names in Python:\n",
    "Starting Character: Variable names must start with a letter (a-z, A-Z) or an underscore (_).\n",
    "They cannot start with a digit (0-9).\n",
    "Subsequent Characters: After the first character, variable names can contain letters, digits, or underscores.\n",
    "Reserved Words: Variable names cannot be the same as Python’s reserved words (keywords).\n",
    "Analysis of the Variable Names:\n",
    "eggs\n",
    "\n",
    "Starts with a letter (e).\n",
    "Contains only letters, which are valid characters.\n",
    "Not a reserved word.\n",
    "Therefore, eggs is a valid variable name.\n",
    "100\n",
    "\n",
    "Starts with a digit (1).\n",
    "Although it contains only digits, the first character rule is violated.\n",
    "Therefore, 100 is not a valid variable name."
   ]
  },
  {
   "cell_type": "code",
   "execution_count": 5,
   "id": "935afcbb-57f5-435a-a408-3e23a0107181",
   "metadata": {},
   "outputs": [
    {
     "name": "stdout",
     "output_type": "stream",
     "text": [
      "12\n",
      "1\n",
      "33.0\n",
      "12.54\n",
      "33\n",
      "33.3\n"
     ]
    }
   ],
   "source": [
    "# 9. What three functions can be used to get the integer, floating-point number, or string version of a value?\n",
    "\n",
    "# integer = this function can convert a value in integar value and it truncated the decimal part of any value such as float and any other value.\n",
    "int_value = int(12)\n",
    "int_value1 = int(1.23)\n",
    "print(int_value)\n",
    "print(int_value1)\n",
    "\n",
    "#float(): This function converts a value to a floating-point number. It can handle integers and strings that represent numbers (both integer and floating-point).\n",
    "float_value = float(33)\n",
    "float_value1 = float(12.54)\n",
    "print(float_value)\n",
    "print(float_value1)\n",
    "\n",
    "#string = it can converts value for a string. it can handle any type of value like integars or floating value.\n",
    "string_value = str(\"33\")\n",
    "string_value1 = str(\"33.3\")\n",
    "print(string_value)\n",
    "print(string_value1)"
   ]
  },
  {
   "cell_type": "code",
   "execution_count": null,
   "id": "ea32b704-6e38-421b-8beb-5da522155e30",
   "metadata": {},
   "outputs": [],
   "source": [
    "# 10. Why does this expression cause an error? How can you fix it?\n",
    "# 'I have eaten ' + 99 + ' burritos.'\n",
    "\n",
    "this is raising a error because + operator can concatenate the strings but it have one integer value in the mid position so it's making a error.\n",
    "but we can change the integer to string so it will do work.\n",
    "\"I have eater\" + \"99\" +\"burritos\"\n",
    "\n",
    "but we have manymore other options to fix it in a very precise way.such as we can use str() function.\n",
    "\"i have eater\" + str(99) + \"burritos\"   as well as we can use f string function.like\n",
    "f\"I have eater {99} burritos.\" or we can use format method. like \"I have eater {} burritos.\".format(99)\n",
    "\n"
   ]
  },
  {
   "cell_type": "code",
   "execution_count": null,
   "id": "2f6c7e1f-a366-43d5-b736-24792b8fb290",
   "metadata": {},
   "outputs": [],
   "source": []
  },
  {
   "cell_type": "code",
   "execution_count": null,
   "id": "d4af3b36-b7d8-4ffe-ab9b-8b3e70cab3a3",
   "metadata": {},
   "outputs": [],
   "source": []
  }
 ],
 "metadata": {
  "kernelspec": {
   "display_name": "Python 3 (ipykernel)",
   "language": "python",
   "name": "python3"
  },
  "language_info": {
   "codemirror_mode": {
    "name": "ipython",
    "version": 3
   },
   "file_extension": ".py",
   "mimetype": "text/x-python",
   "name": "python",
   "nbconvert_exporter": "python",
   "pygments_lexer": "ipython3",
   "version": "3.11.7"
  }
 },
 "nbformat": 4,
 "nbformat_minor": 5
}
